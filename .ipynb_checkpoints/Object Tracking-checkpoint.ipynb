{
 "cells": [
  {
   "cell_type": "code",
   "execution_count": 1,
   "metadata": {},
   "outputs": [],
   "source": [
    "import cv2\n",
    "import numpy as np\n"
   ]
  },
  {
   "cell_type": "code",
   "execution_count": 13,
   "metadata": {},
   "outputs": [],
   "source": [
    "cap = cv2.VideoCapture(0)\n",
    "if (not cap.isOpened()):\n",
    "    cap.open()\n",
    "while(1):\n",
    "    # Take each frame\n",
    "    ret, frame = cap.read()\n",
    "    frame1 = frame.clone()\n",
    "    frame2 = frame.clone()\n",
    "    \n",
    "    # Convert BGR to HSV\n",
    "    hsv = cv2.cvtColor(frame, cv2.COLOR_BGR2HSV)\n",
    "    hsv1 = hsv.clone()\n",
    "    hsv2 = hsv.clone()\n",
    "    \n",
    "    # For HSV, Hue range is [0,179], Saturation range is [0,255] and Value range is [0,255].\n",
    "    # define range of blue color in HSV\n",
    "    lower_blue = np.array([110,50,50])\n",
    "    upper_blue = np.array([130,255,255])\n",
    "    \n",
    "    # define range of green color in HSV\n",
    "    lower_green = np.array([50,50,50])\n",
    "    upper_green = np.array([70,255,255])\n",
    "    \n",
    "    # define range of red color in HSV\n",
    "    lower_red = np.array([170,50,50])\n",
    "    upper_red = np.array([10,255,255])\n",
    "    \n",
    "    \n",
    "    # Threshold the HSV image to get only blue colors\n",
    "    mask_b = cv2.inRange(hsv, lower_blue, upper_blue)\n",
    "    \n",
    "    # Threshold the HSV image to get only green colors\n",
    "    mask_g = cv2.inRange(hsv1, lower_green, upper_green)\n",
    "    \n",
    "    # Threshold the HSV image to get only red colors\n",
    "    mask_r = cv2.inRange(hsv2, lower_red, upper_red)\n",
    "    \n",
    "    \n",
    "    # Bitwise-AND mask and original image\n",
    "    res_b = cv2.bitwise_and(frame,frame, mask= mask_b)\n",
    "    res_g = cv2.bitwise_and(frame1,frame1, mask= mask_g)\n",
    "    res_r = cv2.bitwise_and(frame2,frame2, mask= mask_r)\n",
    "    \n",
    "    cv2.imshow('frame',frame)\n",
    "    cv2.imshow('Mask blue',mask_b)\n",
    "    cv2.imshow('res blue',res_b)\n",
    "    cv2.imshow('Mask red',mask_r)\n",
    "    cv2.imshow('res red',res_r)\n",
    "    cv2.imshow('Mask green',mask_g)\n",
    "    cv2.imshow('res green',res_g)\n",
    "    \n",
    "    k = cv2.waitKey(5) & 0xFF\n",
    "    if k == ord('q'):\n",
    "        break\n",
    "cap.release()\n",
    "cv2.destroyAllWindows()"
   ]
  },
  {
   "cell_type": "code",
   "execution_count": 12,
   "metadata": {},
   "outputs": [],
   "source": [
    "\n",
    "cap.release()\n",
    "cv2.destroyAllWindows()"
   ]
  },
  {
   "cell_type": "code",
   "execution_count": null,
   "metadata": {},
   "outputs": [],
   "source": []
  }
 ],
 "metadata": {
  "kernelspec": {
   "display_name": "Python 3",
   "language": "python",
   "name": "python3"
  },
  "language_info": {
   "codemirror_mode": {
    "name": "ipython",
    "version": 3
   },
   "file_extension": ".py",
   "mimetype": "text/x-python",
   "name": "python",
   "nbconvert_exporter": "python",
   "pygments_lexer": "ipython3",
   "version": "3.7.5"
  }
 },
 "nbformat": 4,
 "nbformat_minor": 4
}
