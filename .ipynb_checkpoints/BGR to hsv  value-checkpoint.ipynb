{
 "cells": [
  {
   "cell_type": "code",
   "execution_count": 4,
   "metadata": {},
   "outputs": [],
   "source": [
    "import cv2\n",
    "import numpy as np"
   ]
  },
  {
   "cell_type": "code",
   "execution_count": 6,
   "metadata": {},
   "outputs": [
    {
     "name": "stdout",
     "output_type": "stream",
     "text": [
      "[[[  0 255   0]]] [[[ 60 255 255]]]\n",
      "[[[255   0   0]]] [[[120 255 255]]]\n",
      "[[[  0   0 255]]] [[[  0 255 255]]]\n"
     ]
    }
   ],
   "source": [
    "green = np.uint8([[[0,255,0 ]]])\n",
    "blue = np.uint8([[[255,0,0]]])\n",
    "red = np.uint8([[[0,0,255]]])\n",
    "z = np.uint8([[[0,0,0]]])\n",
    "a = np.uint8([[[255,255,255]]])\n",
    "hsv_green = cv2.cvtColor(green,cv2.COLOR_BGR2HSV)\n",
    "hsv_blue = cv2.cvtColor(blue,cv2.COLOR_BGR2HSV)\n",
    "hsv_red = cv2.cvtColor(red,cv2.COLOR_BGR2HSV)\n",
    "hsv_z = cv2.cvtColor(z,cv2.COLOR_BGR2HSV)\n",
    "hsv_a = cv2.cvtColor(a,cv2.COLOR_BGR2HSV)\n",
    "\n",
    "print(green, hsv_green)\n",
    "print(blue, hsv_blue)\n",
    "print(red, hsv_red)\n",
    "print(z,hsv_z)\n",
    "print(a,hsv_a)"
   ]
  },
  {
   "cell_type": "code",
   "execution_count": null,
   "metadata": {},
   "outputs": [],
   "source": []
  }
 ],
 "metadata": {
  "kernelspec": {
   "display_name": "Python 3",
   "language": "python",
   "name": "python3"
  },
  "language_info": {
   "codemirror_mode": {
    "name": "ipython",
    "version": 3
   },
   "file_extension": ".py",
   "mimetype": "text/x-python",
   "name": "python",
   "nbconvert_exporter": "python",
   "pygments_lexer": "ipython3",
   "version": "3.7.5"
  }
 },
 "nbformat": 4,
 "nbformat_minor": 4
}
