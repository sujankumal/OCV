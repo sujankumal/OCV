{
 "cells": [
  {
   "cell_type": "markdown",
   "metadata": {},
   "source": [
    "# Morphological Transformations"
   ]
  },
  {
   "cell_type": "code",
   "execution_count": 1,
   "metadata": {},
   "outputs": [],
   "source": [
    "import cv2\n",
    "import numpy as np\n",
    "from matplotlib import pyplot as plt"
   ]
  },
  {
   "cell_type": "code",
   "execution_count": 12,
   "metadata": {},
   "outputs": [
    {
     "data": {
      "image/png": "[encoded data removed]",
      "text/plain": [
       "<Figure size 432x288 with 5 Axes>"
      ]
     },
     "metadata": {
      "needs_background": "light"
     },
     "output_type": "display_data"
    }
   ],
   "source": [
    "img = cv2.imread('alphabet.png',0)\n",
    "thresh, binaryimage = cv2.threshold(img, 127, 255, cv2.THRESH_BINARY)\n",
    "invertedimage = cv2.bitwise_not(binaryimage)\n",
    "kernel = np.ones((5,5),np.uint8)\n",
    "\n",
    "erosion = cv2.erode(invertedimage,kernel,iterations = 1)\n",
    "dilation = cv2.dilate(erosion,kernel,iterations = 1)\n",
    "opening = cv2.morphologyEx(invertedimage, cv2.MORPH_OPEN, kernel)\n",
    "closing = cv2.morphologyEx(invertedimage, cv2.MORPH_CLOSE, kernel)\n",
    "gradient = cv2.morphologyEx(invertedimage, cv2.MORPH_GRADIENT, kernel)\n",
    "tophat = cv2.morphologyEx(invertedimage, cv2.MORPH_TOPHAT, kernel)\n",
    "blackhat = cv2.morphologyEx(invertedimage, cv2.MORPH_BLACKHAT, kernel)\n",
    "\n",
    "plt.subplot(2,3,1)\n",
    "plt.title('original')\n",
    "plt.imshow(invertedimage)\n",
    "\n",
    "plt.subplot(2,3,2)\n",
    "plt.title('erosion')\n",
    "plt.imshow(erosion)\n",
    "\n",
    "plt.subplot(2,3,3)\n",
    "plt.title('dilation')\n",
    "plt.imshow(dilation)\n",
    "\n",
    "plt.subplot(2,3,4)\n",
    "plt.title('opening')\n",
    "plt.imshow(opening)\n",
    "\n",
    "plt.subplot(2,3,5)\n",
    "plt.title('closing')\n",
    "plt.imshow(closing)\n",
    "\n",
    "cv2.imshow('binary',invertedimage)\n",
    "cv2.imshow('erosion', erosion)\n",
    "cv2.imshow('dilation', dilation)\n",
    "cv2.imshow('opening', opening)\n",
    "cv2.imshow('closing', closing)\n",
    "\n",
    "cv2.waitKey(0)\n",
    "cv2.destroyAllWindows()"
   ]
  },
  {
   "cell_type": "code",
   "execution_count": null,
   "metadata": {},
   "outputs": [],
   "source": []
  }
 ],
 "metadata": {
  "kernelspec": {
   "display_name": "Python 3",
   "language": "python",
   "name": "python3"
  },
  "language_info": {
   "codemirror_mode": {
    "name": "ipython",
    "version": 3
   },
   "file_extension": ".py",
   "mimetype": "text/x-python",
   "name": "python",
   "nbconvert_exporter": "python",
   "pygments_lexer": "ipython3",
   "version": "3.7.5"
  }
 },
 "nbformat": 4,
 "nbformat_minor": 4
}
