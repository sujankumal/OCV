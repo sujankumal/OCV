{
 "cells": [
  {
   "cell_type": "code",
   "execution_count": 1,
   "metadata": {},
   "outputs": [],
   "source": [
    "import numpy as np\n",
    "\n",
    "a = np.empty([2,3,4])"
   ]
  },
  {
   "cell_type": "code",
   "execution_count": 2,
   "metadata": {},
   "outputs": [
    {
     "name": "stdout",
     "output_type": "stream",
     "text": [
      "[[[1.39265090e-316 0.00000000e+000 3.60440373e+228 3.81998052e+180]\n",
      "  [7.73400186e-313 8.18434960e-085 5.81821776e+180 5.58802404e-268]\n",
      "  [2.00429134e-313 3.81674046e-308 1.33360303e+241 1.70820661e-310]]\n",
      "\n",
      " [[1.93676345e-282 1.57989218e-313 3.39953911e-308 1.33360301e+241]\n",
      "  [1.38226806e-310 3.06836125e+257 8.73990005e+245 1.19481439e-298]\n",
      "  [1.09421345e-303 2.44572280e-260 8.20437588e-304 1.05566968e+015]]]\n"
     ]
    }
   ],
   "source": [
    "print(a)"
   ]
  },
  {
   "cell_type": "code",
   "execution_count": 4,
   "metadata": {},
   "outputs": [
    {
     "name": "stdout",
     "output_type": "stream",
     "text": [
      "(2, 3, 4)\n"
     ]
    }
   ],
   "source": [
    "print(a.shape)"
   ]
  },
  {
   "cell_type": "code",
   "execution_count": 5,
   "metadata": {},
   "outputs": [
    {
     "name": "stdout",
     "output_type": "stream",
     "text": [
      "[[[1.39265090e-316 0.00000000e+000 3.60440373e+228 3.81998052e+180]\n",
      "  [7.73400186e-313 8.18434960e-085 5.81821776e+180 5.58802404e-268]\n",
      "  [2.00429134e-313 3.81674046e-308 1.33360303e+241 1.70820661e-310]]\n",
      "\n",
      " [[1.93676345e-282 1.57989218e-313 3.39953911e-308 1.33360301e+241]\n",
      "  [1.38226806e-310 3.06836125e+257 8.73990005e+245 1.19481439e-298]\n",
      "  [1.09421345e-303 2.44572280e-260 8.20437588e-304 1.05566968e+015]]]\n"
     ]
    }
   ],
   "source": []
  },
  {
   "cell_type": "code",
   "execution_count": null,
   "metadata": {},
   "outputs": [],
   "source": []
  }
 ],
 "metadata": {
  "kernelspec": {
   "display_name": "Python 3",
   "language": "python",
   "name": "python3"
  },
  "language_info": {
   "codemirror_mode": {
    "name": "ipython",
    "version": 3
   },
   "file_extension": ".py",
   "mimetype": "text/x-python",
   "name": "python",
   "nbconvert_exporter": "python",
   "pygments_lexer": "ipython3",
   "version": "3.7.5"
  }
 },
 "nbformat": 4,
 "nbformat_minor": 4
}
