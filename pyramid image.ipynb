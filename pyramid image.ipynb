{
 "cells": [
  {
   "cell_type": "code",
   "execution_count": 1,
   "metadata": {},
   "outputs": [],
   "source": [
    "import cv2\n",
    "import numpy as np,sys\n"
   ]
  },
  {
   "cell_type": "code",
   "execution_count": 2,
   "metadata": {},
   "outputs": [],
   "source": [
    "A = cv2.imread('orange.jpg')\n",
    "B = cv2.imread('orange.jpg')\n"
   ]
  },
  {
   "cell_type": "code",
   "execution_count": 9,
   "metadata": {},
   "outputs": [],
   "source": [
    "\n",
    "# generate Gaussian pyramid for A\n",
    "G = A.copy()\n",
    "gpA = [G]\n",
    "\n",
    "for i in range(3):\n",
    "    G = cv2.pyrDown(G)\n",
    "    gpA.append(G)\n"
   ]
  },
  {
   "cell_type": "code",
   "execution_count": 10,
   "metadata": {},
   "outputs": [],
   "source": [
    "# generate Gaussian pyramid for B\n",
    "G = B.copy()\n",
    "gpB = [G]\n",
    "for i in range(3):\n",
    "    G = cv2.pyrDown(G)\n",
    "    gpB.append(G)\n"
   ]
  },
  {
   "cell_type": "code",
   "execution_count": null,
   "metadata": {},
   "outputs": [],
   "source": []
  },
  {
   "cell_type": "code",
   "execution_count": 12,
   "metadata": {},
   "outputs": [
    {
     "name": "stdout",
     "output_type": "stream",
     "text": [
      "(125, 125)\n",
      "(250, 250)\n",
      "(500, 500)\n"
     ]
    }
   ],
   "source": [
    "\n",
    "# generate Laplacian Pyramid for A\n",
    "lpA = [gpA[3]]\n",
    "for i in range(3,0,-1):\n",
    "    size = (gpA[i-1].shape[1], gpA[i-1].shape[0])\n",
    "    print(size)\n",
    "    GE = cv2.pyrUp(gpA[i], dstsize=size)\n",
    "    L = cv2.subtract(gpA[i-1],GE)\n",
    "    lpA.append(L)\n"
   ]
  },
  {
   "cell_type": "code",
   "execution_count": 13,
   "metadata": {},
   "outputs": [
    {
     "name": "stdout",
     "output_type": "stream",
     "text": [
      "(125, 125)\n",
      "(250, 250)\n",
      "(500, 500)\n"
     ]
    }
   ],
   "source": [
    "\n",
    "# generate Laplacian Pyramid for B\n",
    "lpB = [gpB[3]]\n",
    "for i in range(3,0,-1):\n",
    "    size = (gpB[i-1].shape[1], gpB[i-1].shape[0])\n",
    "    print(size)\n",
    "    GE = cv2.pyrUp(gpB[i], dstsize=size)\n",
    "    L = cv2.subtract(gpB[i-1],GE)\n",
    "    lpB.append(L)\n"
   ]
  },
  {
   "cell_type": "code",
   "execution_count": 14,
   "metadata": {},
   "outputs": [
    {
     "name": "stdout",
     "output_type": "stream",
     "text": [
      "(63, 63, 3) (63, 63, 3)\n",
      "(125, 125, 3) (125, 125, 3)\n",
      "(250, 250, 3) (250, 250, 3)\n",
      "(500, 500, 3) (500, 500, 3)\n"
     ]
    }
   ],
   "source": [
    "\n",
    "# Now add left and right halves of images in each level\n",
    "LS = []\n",
    "\n",
    "for la,lb in zip(lpA,lpB):\n",
    "    print(la.shape, lb.shape)\n",
    "    \n",
    "for la,lb in zip(lpA,lpB):\n",
    "    rows,cols, dpt = la.shape\n",
    "    ls = np.hstack((la[:, 0:int(cols/2)], lb[:, int(cols/2):]))\n",
    "    LS.append(ls)\n"
   ]
  },
  {
   "cell_type": "code",
   "execution_count": 21,
   "metadata": {},
   "outputs": [
    {
     "name": "stdout",
     "output_type": "stream",
     "text": [
      "(250, 250, 3)\n",
      "(500, 500, 3)\n"
     ]
    },
    {
     "data": {
      "text/plain": [
       "True"
      ]
     },
     "execution_count": 21,
     "metadata": {},
     "output_type": "execute_result"
    }
   ],
   "source": [
    "\n",
    "# now reconstruct\n",
    "ls_ = LS[1]\n",
    "\n",
    "for i in range(2,4):\n",
    "    print(LS[i].shape)\n",
    "    ls_ = cv2.pyrUp(ls_)\n",
    "    ls_ = cv2.add(ls_, LS[i])\n",
    "\n",
    "# image with direct connecting each half\n",
    "real = np.hstack((A[:,:int(cols/2)],B[:,int(cols/2):]))\n",
    "cv2.imwrite('Pyramid_blending2.jpg',ls_)\n",
    "cv2.imwrite('Direct_blending.jpg',real)"
   ]
  },
  {
   "cell_type": "code",
   "execution_count": null,
   "metadata": {},
   "outputs": [],
   "source": []
  }
 ],
 "metadata": {
  "kernelspec": {
   "display_name": "Python 3",
   "language": "python",
   "name": "python3"
  },
  "language_info": {
   "codemirror_mode": {
    "name": "ipython",
    "version": 3
   },
   "file_extension": ".py",
   "mimetype": "text/x-python",
   "name": "python",
   "nbconvert_exporter": "python",
   "pygments_lexer": "ipython3",
   "version": "3.8.5"
  }
 },
 "nbformat": 4,
 "nbformat_minor": 4
}
