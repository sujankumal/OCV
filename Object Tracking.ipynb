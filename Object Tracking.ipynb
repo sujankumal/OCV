{
 "cells": [
  {
   "cell_type": "code",
   "execution_count": 1,
   "metadata": {},
   "outputs": [],
   "source": [
    "import cv2\n",
    "import numpy as np\n"
   ]
  },
  {
   "cell_type": "code",
   "execution_count": 3,
   "metadata": {},
   "outputs": [],
   "source": [
    "cap = cv2.VideoCapture(0)\n",
    "if (not cap.isOpened()):\n",
    "    cap.open()\n",
    "while(1):\n",
    "    # Take each frame\n",
    "    ret, frame = cap.read()\n",
    "    \n",
    "    # Convert BGR to HSV\n",
    "    hsv = cv2.cvtColor(frame, cv2.COLOR_BGR2HSV)\n",
    "    hsv1 = hsv.copy()\n",
    "    hsv2 = hsv.copy()\n",
    "    hsv3 = hsv.copy()\n",
    "    \n",
    "    # For HSV, Hue range is [0,179], Saturation range is [0,255] and Value range is [0,255].\n",
    "    # define range of blue color in HSV\n",
    "    lower_blue = np.array([110,50,50])\n",
    "    upper_blue = np.array([130,255,255])\n",
    "    \n",
    "    # define range of green color in HSV\n",
    "    lower_green = np.array([50,50,50])\n",
    "    upper_green = np.array([70,255,255])\n",
    "    \n",
    "    # define range of red color in HSV\n",
    "    lower_red = np.array([0,50,50])\n",
    "    upper_red = np.array([10,255,255])\n",
    "    \n",
    "    # Threshold the HSV image to get only red colors\n",
    "    mask_r1 = cv2.inRange(hsv2, lower_red, upper_red)\n",
    "    \n",
    "    lower_red = np.array([170,50,50])\n",
    "    upper_red = np.array([179,255,255])\n",
    "    \n",
    "    # Threshold the HSV image to get only red colors\n",
    "    mask_r2 = cv2.inRange(hsv3, lower_red, upper_red)\n",
    "    \n",
    "    \n",
    "    # Threshold the HSV image to get only blue colors\n",
    "    mask_b = cv2.inRange(hsv, lower_blue, upper_blue)\n",
    "    \n",
    "    # Threshold the HSV image to get only green colors\n",
    "    mask_g = cv2.inRange(hsv1, lower_green, upper_green)\n",
    "    \n",
    "    mask = mask_b + mask_g + mask_r1+ mask_r2 \n",
    "    \n",
    "    \n",
    "    # Bitwise-AND mask and original image\n",
    "#     res = cv2.bitwise_and(frame,frame, mask= mask)\n",
    "    res = cv2.bitwise_and(frame,frame, mask= mask_r1+mask_r2)\n",
    "    \n",
    "    cv2.imshow('frame',frame)\n",
    "    cv2.imshow('Mask',mask)\n",
    "    cv2.imshow('res',res)\n",
    "    \n",
    "    k = cv2.waitKey(5) & 0xFF\n",
    "    if k == ord('q'):\n",
    "        break\n",
    "cap.release()\n",
    "cv2.destroyAllWindows()"
   ]
  },
  {
   "cell_type": "code",
   "execution_count": 12,
   "metadata": {},
   "outputs": [],
   "source": [
    "\n",
    "cap.release()\n",
    "cv2.destroyAllWindows()"
   ]
  },
  {
   "cell_type": "code",
   "execution_count": null,
   "metadata": {},
   "outputs": [],
   "source": []
  }
 ],
 "metadata": {
  "kernelspec": {
   "display_name": "Python 3",
   "language": "python",
   "name": "python3"
  },
  "language_info": {
   "codemirror_mode": {
    "name": "ipython",
    "version": 3
   },
   "file_extension": ".py",
   "mimetype": "text/x-python",
   "name": "python",
   "nbconvert_exporter": "python",
   "pygments_lexer": "ipython3",
   "version": "3.7.5"
  }
 },
 "nbformat": 4,
 "nbformat_minor": 4
}
