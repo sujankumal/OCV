{
 "cells": [
  {
   "cell_type": "code",
   "execution_count": 16,
   "metadata": {},
   "outputs": [],
   "source": [
    "import numpy as np\n",
    "import cv2\n",
    "import matplotlib.pyplot as plt"
   ]
  },
  {
   "cell_type": "code",
   "execution_count": 19,
   "metadata": {},
   "outputs": [
    {
     "data": {
      "text/plain": [
       "<Figure size 432x432 with 0 Axes>"
      ]
     },
     "metadata": {},
     "output_type": "display_data"
    }
   ],
   "source": [
    "cap = cv2.VideoCapture(0)\n",
    "if (not cap.isOpened()):\n",
    "    cap.open()\n",
    "fig = plt.figure(figsize=(6,6))\n",
    "while(True):\n",
    "    # capture frame-by-frame\n",
    "    ret, frame = cap.read()\n",
    "    \n",
    "   \n",
    "    fig.subplots_adjust(top=0.85)\n",
    "    ax = fig.add_subplot(111)\n",
    "    ax.set_title('capture - get')\n",
    "    ax.axis([0, 20, 0, 30])\n",
    "    ax.set_xlabel('x-label')\n",
    "    ax.set_ylabel('y-label')\n",
    "    \n",
    "#     ax1 = fig.add_subplot(122)\n",
    "#     ax1.set_title('Image')\n",
    "#     ax1.axis([0, 20, 0, 20])\n",
    "#     ax1.set_xlabel('x-label')\n",
    "#     ax1.set_ylabel('y-label')\n",
    "    propids = {\n",
    "        0:\"CV_CAP_PROP_POS_MSEC\",\n",
    "        1:\"CV_CAP_PROP_POS_FRAMES\",\n",
    "        2:\"CV_CAP_PROP_POS_AVI_RATIO\",\n",
    "        3:\"CV_CAP_PROP_FRAME_WIDTH\",\n",
    "        4:\"CV_CAP_PROP_FRAME_HEIGHT\",\n",
    "        5:\"CV_CAP_PROP_FPS\",\n",
    "        6:\"CV_CAP_PROP_FOURCC\",\n",
    "        7:\"CV_CAP_PROP_FRAME_COUNT\",\n",
    "        8:\"CV_CAP_PROP_FORMAT\",\n",
    "        9:\"CV_CAP_PROP_MODE\",\n",
    "        10:\"CV_CAP_PROP_BRIGHTNESS\",\n",
    "        11:\"CV_CAP_PROP_CONTRAST\",\n",
    "        12:\"CV_CAP_PROP_SATURATION\",\n",
    "        13:\"CV_CAP_PROP_HUE\",\n",
    "        14:\"CV_CAP_PROP_GAIN\",\n",
    "        15:\"CV_CAP_PROP_EXPOSURE\",\n",
    "        16:\"CV_CAP_PROP_CONVERT_RGB\",\n",
    "        17:\"CV_CAP_PROP_WHITE_BALANCE_U\",\n",
    "        18:\"CV_CAP_PROP_WHITE_BALANCE_V\",\n",
    "        19:\"CV_CAP_PROP_RECTIFICATION\",\n",
    "        20:\"CV_CAP_PROP_ISO_SPEED\",\n",
    "        21:\"CV_CAP_PROP_BUFFERSIZE\"\n",
    "    }\n",
    "    for i in range(22):\n",
    "        ax.text( 1, (22-i), str(propids.get(i))+\" \"+str(cap.get(i)))\n",
    "    \n",
    "    # Our Operations on the frame come here\n",
    "    gray = cv2.cvtColor(frame, cv2.COLOR_BGR2GRAY)\n",
    "    cv2.imshow(\"frame\", gray)\n",
    "#     ax1.imshow(gray)  \n",
    "    \n",
    "    # display the resulting frame\n",
    "    # cv2.imshow('frame', gray)\n",
    "    \n",
    "    # redraw the canvas\n",
    "    fig.canvas.draw()\n",
    "    \n",
    "    # convert canvas to image\n",
    "    img = np.frombuffer(fig.canvas.tostring_rgb(), dtype=np.uint8)\n",
    "    img = img.reshape(fig.canvas.get_width_height()[::-1] + (3,))\n",
    "\n",
    "    # img is rgb, convert to opencv's default bgr\n",
    "    img = cv2.cvtColor(img, cv2.COLOR_RGB2BGR)\n",
    "\n",
    "    # display image with opencv or any operation you like\n",
    "    cv2.imshow(\"Image\",img)\n",
    "    \n",
    "    plt.clf()\n",
    "    \n",
    "    if cv2.waitKey(1) & 0xFF == ord('q'):\n",
    "        break"
   ]
  },
  {
   "cell_type": "code",
   "execution_count": 20,
   "metadata": {},
   "outputs": [],
   "source": [
    "# when everything done , release the capture\n",
    "cap.release()\n",
    "cv2.destroyAllWindows()"
   ]
  },
  {
   "cell_type": "code",
   "execution_count": null,
   "metadata": {},
   "outputs": [],
   "source": []
  }
 ],
 "metadata": {
  "kernelspec": {
   "display_name": "Python 3",
   "language": "python",
   "name": "python3"
  },
  "language_info": {
   "codemirror_mode": {
    "name": "ipython",
    "version": 3
   },
   "file_extension": ".py",
   "mimetype": "text/x-python",
   "name": "python",
   "nbconvert_exporter": "python",
   "pygments_lexer": "ipython3",
   "version": "3.7.5"
  }
 },
 "nbformat": 4,
 "nbformat_minor": 4
}
